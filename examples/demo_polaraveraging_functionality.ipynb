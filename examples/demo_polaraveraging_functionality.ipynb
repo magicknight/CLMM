{
 "cells": [
  {
   "cell_type": "markdown",
   "metadata": {},
   "source": [
    "# Measure a Profile"
   ]
  },
  {
   "cell_type": "markdown",
   "metadata": {},
   "source": [
    "## Note\n",
    "\n",
    "All functions in this section using the cluster object as first argument are also internal functions of the cluster object, and should be used as such. They are just explicitely used here for clarity.\n",
    "\n",
    "Ex:\n",
    "\n",
    "```\n",
    "theta, g_t, g_x = compute_shear(cl, geometry=\"flat\")\n",
    "```\n",
    "\n",
    "should be done by the user as:\n",
    "\n",
    "```\n",
    "theta, g_t, g_x = cl.compute_shear(geometry=\"flat\")\n",
    "```"
   ]
  },
  {
   "cell_type": "code",
   "execution_count": null,
   "metadata": {},
   "outputs": [],
   "source": [
    "import matplotlib.pyplot as plt\n",
    "import clmm\n",
    "from clmm.polaraveraging import compute_shear, make_shear_profile, make_bins\n",
    "from clmm.plotting import plot_profiles\n",
    "from clmm.galaxycluster import GalaxyCluster\n",
    "import sys\n",
    "sys.path.append('./support')\n",
    "import mock_data as mock"
   ]
  },
  {
   "cell_type": "markdown",
   "metadata": {},
   "source": [
    "Make sure we know which version we're using"
   ]
  },
  {
   "cell_type": "code",
   "execution_count": null,
   "metadata": {},
   "outputs": [],
   "source": [
    "clmm.__version__"
   ]
  },
  {
   "cell_type": "markdown",
   "metadata": {},
   "source": [
    "### Define cosmology object"
   ]
  },
  {
   "cell_type": "code",
   "execution_count": null,
   "metadata": {},
   "outputs": [],
   "source": [
    "from astropy.cosmology import FlatLambdaCDM\n",
    "mock_cosmo = FlatLambdaCDM(H0=70., Om0=0.3, Ob0=0.025)"
   ]
  },
  {
   "cell_type": "markdown",
   "metadata": {},
   "source": [
    "## 1) Generate cluster object with mock data with shape noise, galaxies from redshift distribution and a pdz for each source galaxy"
   ]
  },
  {
   "cell_type": "markdown",
   "metadata": {},
   "source": [
    "Define toy cluster parameters for mock data generation"
   ]
  },
  {
   "cell_type": "code",
   "execution_count": null,
   "metadata": {},
   "outputs": [],
   "source": [
    "cosmo = mock_cosmo\n",
    "cluster_id = \"Awesome_cluster\"\n",
    "cluster_m = 1.e15\n",
    "cluster_z = 0.3\n",
    "concentration = 4\n",
    "ngals = 1000\n",
    "Delta = 200\n",
    "\n",
    "zsrc_min = cluster_z + 0.1 # we only want to draw background galaxies\n",
    "\n",
    "noisy_data_z = mock.generate_galaxy_catalog(cluster_m,\n",
    "                                            cluster_z,\n",
    "                                            concentration,\n",
    "                                            cosmo,\n",
    "                                            ngals,\n",
    "                                            Delta,\n",
    "                                            'chang13',\n",
    "                                            zsrc_min = zsrc_min,\n",
    "                                            shapenoise=0.005,\n",
    "                                            photoz_sigma_unscaled=0.05)"
   ]
  },
  {
   "cell_type": "markdown",
   "metadata": {},
   "source": [
    "Loading this into a CLMM cluster object centered on (0,0)"
   ]
  },
  {
   "cell_type": "code",
   "execution_count": null,
   "metadata": {},
   "outputs": [],
   "source": [
    "cluster_ra = 0.0\n",
    "cluster_dec = 0.0\n",
    "gc_object = GalaxyCluster(cluster_id, cluster_ra, cluster_dec, \n",
    "                               cluster_z, noisy_data_z)"
   ]
  },
  {
   "cell_type": "markdown",
   "metadata": {},
   "source": [
    "## 2) Load cluster object containing:\n",
    "> Lens properties (ra_l, dec_l, z_l)\n",
    "\n",
    "> Source properties (ra_s, dec_s, e1, e2)\n",
    "### Note, if loading from mock data, use: \n",
    ">> cl = gc.load_cluster(\"GC_from_mock_data.pkl\")"
   ]
  },
  {
   "cell_type": "code",
   "execution_count": null,
   "metadata": {},
   "outputs": [],
   "source": [
    "cl = gc_object\n",
    "print(\"Cluster info = ID:\", cl.unique_id, \"; ra:\", cl.ra,\n",
    "      \"; dec:\", cl.dec, \"; z_l :\", cl.z)\n",
    "print(\"The number of source galaxies is :\", len(cl.galcat))"
   ]
  },
  {
   "cell_type": "markdown",
   "metadata": {},
   "source": [
    "Plot cluster and galaxy positions, and redshift distribution"
   ]
  },
  {
   "cell_type": "code",
   "execution_count": null,
   "metadata": {},
   "outputs": [],
   "source": [
    "f, ax = plt.subplots(1, 2, figsize=(12, 4))\n",
    "\n",
    "ax[0].scatter(cl.galcat['ra'], cl.galcat['dec'], color='blue', s=1, alpha=0.3)\n",
    "ax[0].plot(cl.ra, cl.dec, 'ro')\n",
    "ax[0].set_ylabel('dec', fontsize=\"large\")\n",
    "ax[0].set_xlabel('ra', fontsize=\"large\")\n",
    "\n",
    "hist = ax[1].hist(cl.galcat['z'], bins=40)[0]\n",
    "ax[1].axvline(cl.z, c='r', ls='--')\n",
    "ax[1].set_xlabel('$z_{source}$', fontsize=\"large\")\n",
    "xt = {t:f'{t}' for t in ax[1].get_xticks() if t!=0}\n",
    "xt[cl.z] ='$z_{cl}$'\n",
    "xto = sorted(list(xt.keys())+[cl.z])\n",
    "ax[1].set_xticks(xto)\n",
    "ax[1].set_xticklabels(xt[t] for t in xto)\n",
    "ax[1].get_xticklabels()[xto.index(cl.z)].set_color('red')\n",
    "plt.xlim(0, max(xto))\n",
    "plt.show()"
   ]
  },
  {
   "cell_type": "code",
   "execution_count": null,
   "metadata": {},
   "outputs": [],
   "source": [
    "min(cl.galcat['z']), cl.z"
   ]
  },
  {
   "cell_type": "markdown",
   "metadata": {},
   "source": [
    "Check the ellipticities"
   ]
  },
  {
   "cell_type": "code",
   "execution_count": null,
   "metadata": {},
   "outputs": [],
   "source": [
    "fig, ax1 = plt.subplots(1, 1)\n",
    "\n",
    "ax1.scatter(cl.galcat['e1'], cl.galcat['e2'], s=1, alpha=0.2)\n",
    "ax1.set_xlabel('e1')\n",
    "ax1.set_ylabel('e2')\n",
    "ax1.set_aspect('equal', 'datalim')\n",
    "ax1.axvline(0, linestyle='dotted', color='black')\n",
    "ax1.axhline(0, linestyle='dotted', color='black')"
   ]
  },
  {
   "cell_type": "markdown",
   "metadata": {},
   "source": [
    "## 3) Compute and plot shear profiles"
   ]
  },
  {
   "cell_type": "markdown",
   "metadata": {},
   "source": [
    "Compute angular separation, cross and tangential shear for each source galaxy"
   ]
  },
  {
   "cell_type": "code",
   "execution_count": null,
   "metadata": {},
   "outputs": [],
   "source": [
    "theta, g_t, g_x = compute_shear(cl, geometry=\"flat\")"
   ]
  },
  {
   "cell_type": "markdown",
   "metadata": {},
   "source": [
    "Plot tangential and shear distributions for verification, which can be accessed in the galaxy cluster object, cl."
   ]
  },
  {
   "cell_type": "code",
   "execution_count": null,
   "metadata": {},
   "outputs": [],
   "source": [
    "f, ax = plt.subplots(1, 2, figsize=(12, 4))\n",
    "\n",
    "ax[0].hist(cl.galcat['gt'],bins=100)\n",
    "ax[0].set_xlabel('$\\\\gamma_t$',fontsize='xx-large')\n",
    "\n",
    "ax[1].hist(cl.galcat['gx'],bins=100)\n",
    "ax[1].set_xlabel('$\\\\gamma_x$',fontsize='xx-large')\n",
    "ax[1].set_yscale('log')"
   ]
  },
  {
   "cell_type": "markdown",
   "metadata": {},
   "source": [
    "Compute transversal and cross shear profiles in units defined by user, using defaults binning "
   ]
  },
  {
   "cell_type": "code",
   "execution_count": null,
   "metadata": {},
   "outputs": [],
   "source": [
    "profiles = make_shear_profile(cl, \"radians\", \"kpc\", cosmo=cosmo)\n",
    "profiles"
   ]
  },
  {
   "cell_type": "markdown",
   "metadata": {},
   "source": [
    "Use function to plot the profiles"
   ]
  },
  {
   "cell_type": "code",
   "execution_count": null,
   "metadata": {},
   "outputs": [],
   "source": [
    "fig, ax = plot_profiles(cl)"
   ]
  },
  {
   "cell_type": "markdown",
   "metadata": {},
   "source": [
    "Shear Profile example in degrees"
   ]
  },
  {
   "cell_type": "code",
   "execution_count": null,
   "metadata": {},
   "outputs": [],
   "source": [
    "new_profiles = make_shear_profile(cl, \"radians\", \"degrees\",\n",
    "                                     cosmo=cosmo)\n",
    "fig1, ax1 = plot_profiles(cl, \"degrees\")"
   ]
  },
  {
   "cell_type": "markdown",
   "metadata": {},
   "source": [
    "With user defined binning, compute transversal and cross shear profiles in units defined by user, plot the new profiles"
   ]
  },
  {
   "cell_type": "code",
   "execution_count": null,
   "metadata": {},
   "outputs": [],
   "source": [
    "new_bins = make_bins(1, 6, 20)\n",
    "\n",
    "new_profiles = make_shear_profile(cl, \"radians\", \"Mpc\",\n",
    "                                     bins=new_bins, cosmo=cosmo)\n",
    "\n",
    "fig1, ax1 = plot_profiles(cl, \"Mpc\", r_units='Mpc')"
   ]
  },
  {
   "cell_type": "markdown",
   "metadata": {},
   "source": [
    "You can also access the individual profile quantities "
   ]
  },
  {
   "cell_type": "code",
   "execution_count": null,
   "metadata": {},
   "outputs": [],
   "source": [
    "plt.title('cross shear test')\n",
    "plt.errorbar(new_profiles['radius'], new_profiles['gx'],\n",
    "             new_profiles['gx_err'])\n",
    "plt.axhline(0, linestyle='dotted', color='black')\n",
    "plt.xlabel(\"Radius [Mpc]\")\n",
    "plt.ylabel('$\\\\gamma_x$')\n",
    "plt.show()\n",
    "\n",
    "plt.title('Average redshift in radial bins')\n",
    "plt.errorbar(new_profiles['radius'], new_profiles['z'],\n",
    "             new_profiles['z_err'])\n",
    "plt.axhline(cl.z, linestyle='dotted', color='r')\n",
    "plt.text(1, cl.z*1.1, '$z_{cl}$', c='r')\n",
    "plt.xlabel(\"Radius [Mpc]\")\n",
    "plt.ylabel('$\\langle z\\\\rangle$')\n",
    "plt.show()"
   ]
  },
  {
   "cell_type": "code",
   "execution_count": null,
   "metadata": {},
   "outputs": [],
   "source": []
  }
 ],
 "metadata": {
  "kernelspec": {
   "display_name": "Python [conda env:astroconda]",
   "language": "python",
   "name": "conda-env-astroconda-py"
  },
  "language_info": {
   "codemirror_mode": {
    "name": "ipython",
    "version": 3
   },
   "file_extension": ".py",
   "mimetype": "text/x-python",
   "name": "python",
   "nbconvert_exporter": "python",
   "pygments_lexer": "ipython3",
   "version": "3.6.7"
  }
 },
 "nbformat": 4,
 "nbformat_minor": 4
}
