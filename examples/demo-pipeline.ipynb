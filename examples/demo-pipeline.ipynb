{
 "cells": [
  {
   "cell_type": "markdown",
   "metadata": {},
   "source": [
    "Fitting a WL mass using `clmm`\n",
    "\n",
    "_the LSST-DESC CLMM team_"
   ]
  },
  {
   "cell_type": "code",
   "execution_count": null,
   "metadata": {},
   "outputs": [],
   "source": [
    "from astropy.cosmology import FlatLambdaCDM\n",
    "import clmm\n",
    "from clmm import modeling as mod\n",
    "from clmm import polaraveraging as avg\n",
    "import sys\n",
    "sys.path.append('./support')\n",
    "import mock_data as mock\n",
    "from numpy import random\n",
    "from scipy import optimize as spo"
   ]
  },
  {
   "cell_type": "code",
   "execution_count": null,
   "metadata": {
    "collapsed": true
   },
   "outputs": [],
   "source": [
    "# define a true cosmology\n",
    "\n",
    "mock_cosmo = FlatLambdaCDM(H0=70, Om0=0.27, Ob0=0.045)\n",
    "cosmo = mod.cclify_astropy_cosmo(mock_cosmo)"
   ]
  },
  {
   "cell_type": "code",
   "execution_count": null,
   "metadata": {},
   "outputs": [],
   "source": [
    "needed_type = type(cosmo)\n",
    "print(needed_type)"
   ]
  },
  {
   "cell_type": "markdown",
   "metadata": {},
   "source": [
    "# Make mock data"
   ]
  },
  {
   "cell_type": "code",
   "execution_count": null,
   "metadata": {
    "collapsed": true
   },
   "outputs": [],
   "source": [
    "# define toy cluster parameters\n",
    "\n",
    "config = {}\n",
    "config['cosmo'] = cosmo\n",
    "config['cluster_id'] = \"Awesome_cluster\"\n",
    "config['cluster_m'] = 1.e15\n",
    "config['cluster_z'] = 0.3\n",
    "config['src_z'] = 0.8\n",
    "config['concentration'] = 4\n",
    "config['ngals'] = 10000\n",
    "config['Delta'] = 200"
   ]
  },
  {
   "cell_type": "code",
   "execution_count": null,
   "metadata": {
    "collapsed": true
   },
   "outputs": [],
   "source": [
    "# make mock data object\n",
    "\n",
    "ideal_data = mock.MockData(config=config)"
   ]
  },
  {
   "cell_type": "code",
   "execution_count": null,
   "metadata": {
    "collapsed": true
   },
   "outputs": [],
   "source": [
    "# populate catalog of galaxy cluster\n",
    "\n",
    "ideal_data.generate()"
   ]
  },
  {
   "cell_type": "code",
   "execution_count": null,
   "metadata": {
    "collapsed": true
   },
   "outputs": [],
   "source": [
    "# make a clmm.GalaxyCluster object\n",
    "\n",
    "cluster_ra = 0.0\n",
    "cluster_dec = 0.0\n",
    "gc_object = clmm.GalaxyCluster(config['cluster_id'], cluster_ra, cluster_dec, \n",
    "                               config['cluster_z'], ideal_data.catalog)"
   ]
  },
  {
   "cell_type": "code",
   "execution_count": null,
   "metadata": {
    "collapsed": true
   },
   "outputs": [],
   "source": [
    "# save the clmm.GalaxyCluster object\n",
    "\n",
    "gc_object.save('mock_GC.pkl')"
   ]
  },
  {
   "cell_type": "markdown",
   "metadata": {},
   "source": [
    "# Derive observables"
   ]
  },
  {
   "cell_type": "code",
   "execution_count": null,
   "metadata": {
    "collapsed": true
   },
   "outputs": [],
   "source": [
    "# load a clmm.GalaxyCluster object\n",
    "\n",
    "cl = clmm.load_cluster('mock_GC.pkl')\n",
    "\n",
    "ra_l = cl.ra\n",
    "dec_l = cl.dec\n",
    "z = cl.z\n",
    "e1 = cl.galcat['e1']\n",
    "e2 = cl.galcat['e2']\n",
    "ra_s = cl.galcat['ra']\n",
    "dec_s = cl.galcat['dec']"
   ]
  },
  {
   "cell_type": "code",
   "execution_count": null,
   "metadata": {},
   "outputs": [],
   "source": [
    "import matplotlib.pyplot as plt\n",
    "%matplotlib inline\n",
    "plt.scatter(ra_s, dec_s)"
   ]
  },
  {
   "cell_type": "code",
   "execution_count": null,
   "metadata": {
    "collapsed": true
   },
   "outputs": [],
   "source": [
    "# calculate distance, tangential shear, cross shear for each source galaxy in the cluster\n",
    "\n",
    "#(theta, g_t, g_x) = avg.compute_shear(ra_l, dec_l, ra_s, dec_s, e1, e2, sky='flat')\n",
    "(theta, g_t, g_x) = avg.compute_shear(cl)"
   ]
  },
  {
   "cell_type": "code",
   "execution_count": null,
   "metadata": {},
   "outputs": [],
   "source": [
    "type(theta)"
   ]
  },
  {
   "cell_type": "code",
   "execution_count": null,
   "metadata": {},
   "outputs": [],
   "source": [
    "plt.scatter(theta, g_t)\n"
   ]
  },
  {
   "cell_type": "code",
   "execution_count": null,
   "metadata": {
    "collapsed": true
   },
   "outputs": [],
   "source": [
    "# define bins\n",
    "\n",
    "# bins = avg.make_bins(0.1, 3.7, 20)"
   ]
  },
  {
   "cell_type": "code",
   "execution_count": null,
   "metadata": {
    "collapsed": true
   },
   "outputs": [],
   "source": [
    "rMpc = clmm.polaraveraging._theta_units_conversion(theta,\"Mpc\",z,mock_cosmo,cosmo_object_type='astropy')"
   ]
  },
  {
   "cell_type": "code",
   "execution_count": null,
   "metadata": {},
   "outputs": [],
   "source": [
    "# calculate shear profiles\n",
    "\n",
    "(r, gt_profile, gterr_profile) = avg._compute_radial_averages(rMpc, g_t.data)\n",
    "(r, gx_proflie, gxerr_profile) = avg._compute_radial_averages(rMpc, g_x.data)"
   ]
  },
  {
   "cell_type": "code",
   "execution_count": null,
   "metadata": {},
   "outputs": [],
   "source": [
    "plt.scatter(r, gt_profile)"
   ]
  },
  {
   "cell_type": "markdown",
   "metadata": {},
   "source": [
    "# Construct model"
   ]
  },
  {
   "cell_type": "code",
   "execution_count": null,
   "metadata": {
    "collapsed": true
   },
   "outputs": [],
   "source": [
    "# select density profile parametrization and parameter values\n",
    "def nfw_to_shear_profile(logm):\n",
    "    m = 10.**logm\n",
    "    gt_model = mod.predict_reduced_tangential_shear(r, m, config['concentration'], config['cluster_z'], \n",
    "                                                    config['src_z'], config['cosmo'], \n",
    "                                        Delta=200, halo_profile_parameterization='nfw')\n",
    "    return (gt_model - gt_profile) **2"
   ]
  },
  {
   "cell_type": "markdown",
   "metadata": {},
   "source": [
    "# Fit for mass"
   ]
  },
  {
   "cell_type": "code",
   "execution_count": null,
   "metadata": {},
   "outputs": [],
   "source": [
    "# optimize to find the best-fit mass\n",
    "\n",
    "logm_0 = random.uniform(13., 17., 1)[0]\n",
    "logm_est = spo.minimize(nfw_to_shear_profile, logm_0)\n",
    "m_est = 10.**logm_est"
   ]
  },
  {
   "cell_type": "code",
   "execution_count": null,
   "metadata": {
    "collapsed": true
   },
   "outputs": [],
   "source": []
  }
 ],
 "metadata": {
  "kernelspec": {
   "display_name": "Python 3",
   "language": "python",
   "name": "python3"
  },
  "language_info": {
   "codemirror_mode": {
    "name": "ipython",
    "version": 3
   },
   "file_extension": ".py",
   "mimetype": "text/x-python",
   "name": "python",
   "nbconvert_exporter": "python",
   "pygments_lexer": "ipython3",
   "version": "3.6.3"
  }
 },
 "nbformat": 4,
 "nbformat_minor": 2
}
