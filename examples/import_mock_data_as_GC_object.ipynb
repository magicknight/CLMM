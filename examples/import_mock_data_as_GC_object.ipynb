{
 "cells": [
  {
   "cell_type": "code",
   "execution_count": 1,
   "metadata": {},
   "outputs": [],
   "source": [
    "import numpy as np\n",
    "import clmm\n",
    "import sys\n",
    "sys.path.append('./support')\n",
    "import mock_data as mock"
   ]
  },
  {
   "cell_type": "markdown",
   "metadata": {},
   "source": [
    "#### Define the cosmology object, either using pyccl or astropy - comment/uncomment as appropriate"
   ]
  },
  {
   "cell_type": "code",
   "execution_count": 2,
   "metadata": {
    "collapsed": true
   },
   "outputs": [],
   "source": [
    "## Define a CCL-like cosmology object from pyccl\n",
    "# import pyccl as ccl\n",
    "# cosmo = ccl.Cosmology(Omega_c=0.27, Omega_b=0.045, h=0.67, A_s=2.1e-9, n_s=0.96)\n",
    "\n",
    "\n",
    "# Define a Atropy-like cosmology object from astropy cosmology\n",
    "from astropy.cosmology import FlatLambdaCDM\n",
    "astropy_cosmology_object = FlatLambdaCDM(H0=70, Om0=0.27, Ob0=0.045)\n",
    "cosmo = clmm.cclify_astropy_cosmo(astropy_cosmology_object)"
   ]
  },
  {
   "cell_type": "markdown",
   "metadata": {},
   "source": [
    "#### Preparing config for mock data generation\n",
    "\n",
    "Mock data will include shape noise, galaxies from redshift distribution and a pdz for each galaxies"
   ]
  },
  {
   "cell_type": "code",
   "execution_count": 19,
   "metadata": {
    "collapsed": true
   },
   "outputs": [],
   "source": [
    "config={}\n",
    "config['cluster_id'] = 'mock cluster'\n",
    "config['cluster_m'] = 1.e15\n",
    "config['cluster_z'] = 0.3\n",
    "config['src_z'] = 0.8\n",
    "config['concentration'] = 4\n",
    "config['ngals'] = 10000\n",
    "config['Delta'] = 200\n",
    "config['cosmo'] = cosmo\n",
    "\n",
    "noisy_data_z = mock.MockData(config=config)\n",
    "noisy_data_z.generate(is_shapenoise=True, is_zdistribution=True, is_zerr=True)"
   ]
  },
  {
   "cell_type": "code",
   "execution_count": 20,
   "metadata": {},
   "outputs": [
    {
     "data": {
      "text/html": [
       "<i>Table length=3</i>\n",
       "<table id=\"table4544074808\" class=\"table-striped table-bordered table-condensed\">\n",
       "<thead><tr><th>id</th><th>ra</th><th>dec</th><th>e1</th><th>e2</th><th>z</th><th>z_pdf [34]</th><th>z_bins [34]</th></tr></thead>\n",
       "<thead><tr><th>int64</th><th>float64</th><th>float64</th><th>float64</th><th>float64</th><th>float64</th><th>float64</th><th>float64</th></tr></thead>\n",
       "<tr><td>0</td><td>-0.2363222407499571</td><td>0.15483562885548555</td><td>-0.004044827568977148</td><td>-0.00928682310666041</td><td>1.4673533527760723</td><td>0.0008766033149705275 .. 0.0012135357378001736</td><td>0.9673533527760723 .. 1.9573533527760731</td></tr>\n",
       "<tr><td>1</td><td>-0.17645825764792297</td><td>0.07764545671017668</td><td>-0.005303839177762573</td><td>-0.005788341621938365</td><td>1.3949131143504925</td><td>0.0005453822767517256 .. 0.0007702374167346789</td><td>0.8949131143504925 .. 1.8849131143504934</td></tr>\n",
       "<tr><td>2</td><td>-0.06314409235725608</td><td>-0.18933151709192222</td><td>0.005110680574446225</td><td>0.003835560759098993</td><td>1.640654527597231</td><td>0.002323478211774365 .. 0.0030864309344598414</td><td>1.140654527597231 .. 2.130654527597232</td></tr>\n",
       "</table>"
      ],
      "text/plain": [
       "<Table length=3>\n",
       "  id           ra          ...               z_bins [34]               \n",
       "int64       float64        ...                 float64                 \n",
       "----- -------------------- ... ----------------------------------------\n",
       "    0  -0.2363222407499571 ... 0.9673533527760723 .. 1.9573533527760731\n",
       "    1 -0.17645825764792297 ... 0.8949131143504925 .. 1.8849131143504934\n",
       "    2 -0.06314409235725608 ...   1.140654527597231 .. 2.130654527597232"
      ]
     },
     "execution_count": 20,
     "metadata": {},
     "output_type": "execute_result"
    }
   ],
   "source": [
    "noisy_data_z.catalog[0:3]"
   ]
  },
  {
   "cell_type": "markdown",
   "metadata": {},
   "source": [
    "#### Loading this into a CLMM cluster object"
   ]
  },
  {
   "cell_type": "code",
   "execution_count": 21,
   "metadata": {
    "collapsed": true
   },
   "outputs": [],
   "source": [
    "# At the moment mock data only allow for a cluster centred on (0,0)\n",
    "cluster_ra = 0.0\n",
    "cluster_dec = 0.0\n",
    "gc_object = clmm.GalaxyCluster(config['cluster_id'], cluster_ra, cluster_dec, \n",
    "                             config['cluster_z'], noisy_data_z.catalog)"
   ]
  },
  {
   "cell_type": "markdown",
   "metadata": {},
   "source": [
    "#### Saving the GC object "
   ]
  },
  {
   "cell_type": "code",
   "execution_count": 22,
   "metadata": {
    "collapsed": true
   },
   "outputs": [],
   "source": [
    "gc_object.save(\"GC_from_mock_data.pkl\")"
   ]
  },
  {
   "cell_type": "markdown",
   "metadata": {},
   "source": [
    "#### Checking ellipicities"
   ]
  },
  {
   "cell_type": "code",
   "execution_count": 24,
   "metadata": {},
   "outputs": [
    {
     "data": {
      "text/plain": [
       "(-0.2, 0.2)"
      ]
     },
     "execution_count": 24,
     "metadata": {},
     "output_type": "execute_result"
    },
    {
     "data": {
      "image/png": "[encoded data removed]",
      "text/plain": [
       "<matplotlib.figure.Figure at 0x10eea8d30>"
      ]
     },
     "metadata": {},
     "output_type": "display_data"
    }
   ],
   "source": [
    "import matplotlib.pyplot as plt\n",
    "%matplotlib inline\n",
    "\n",
    "plt.scatter(gc_object.galcat['e1'],gc_object.galcat['e2'], marker='.')\n",
    "plt.xlim(-0.2, 0.2)\n",
    "plt.ylim(-0.2, 0.2)"
   ]
  },
  {
   "cell_type": "code",
   "execution_count": null,
   "metadata": {
    "collapsed": true
   },
   "outputs": [],
   "source": []
  }
 ],
 "metadata": {
  "kernelspec": {
   "display_name": "Python 3",
   "language": "python",
   "name": "python3"
  },
  "language_info": {
   "codemirror_mode": {
    "name": "ipython",
    "version": 3
   },
   "file_extension": ".py",
   "mimetype": "text/x-python",
   "name": "python",
   "nbconvert_exporter": "python",
   "pygments_lexer": "ipython3",
   "version": "3.6.3"
  }
 },
 "nbformat": 4,
 "nbformat_minor": 2
}
