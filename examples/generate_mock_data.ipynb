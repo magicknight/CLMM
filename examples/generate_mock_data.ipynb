{
 "cells": [
  {
   "cell_type": "markdown",
   "metadata": {},
   "source": [
    "## This example jupyer notebook uses clmm code to generate mock data with a set of configuration parameters, producing a catalog of ideal and noisy example data."
   ]
  },
  {
   "cell_type": "code",
   "execution_count": 1,
   "metadata": {
    "collapsed": true
   },
   "outputs": [],
   "source": [
    "import numpy as np\n",
    "import cluster_toolkit as ct\n",
    "import matplotlib.pyplot as plt\n",
    "%matplotlib inline"
   ]
  },
  {
   "cell_type": "markdown",
   "metadata": {},
   "source": [
    "### Import mock data module and setup the configuration "
   ]
  },
  {
   "cell_type": "code",
   "execution_count": 2,
   "metadata": {
    "collapsed": true
   },
   "outputs": [],
   "source": [
    "import sys\n",
    "sys.path.append('./support')\n",
    "sys.path.append('../clmm')\n",
    "import modeling as pp\n",
    "import mock_data as mock\n"
   ]
  },
  {
   "cell_type": "markdown",
   "metadata": {},
   "source": [
    "### Mock data generation requires a config dictionary"
   ]
  },
  {
   "cell_type": "code",
   "execution_count": 3,
   "metadata": {
    "collapsed": true
   },
   "outputs": [],
   "source": [
    "config={}\n",
    "config['cluster_m'] = 1.e15\n",
    "config['cluster_z'] = 0.3\n",
    "config['src_z'] = 0.8\n",
    "config['concentration'] = 4\n",
    "\n",
    "# If CCL is installed\n",
    "# import pyccl as ccl\n",
    "# config['cosmo'] = ccl.Cosmology(Omega_c=0.27, Omega_b=0.045, h=0.67, A_s=2.1e-9, n_s=0.96)\n",
    "\n",
    "# If CCL is not installed use instead\n",
    "from astropy.cosmology import FlatLambdaCDM\n",
    "astropy_cosmology_object = FlatLambdaCDM(H0=70, Om0=0.27, Ob0=0.045)\n",
    "config['cosmo'] = pp.cclify_astropy_cosmo(astropy_cosmology_object)\n",
    "\n",
    "config['ngals'] = 10000\n",
    "config['Delta'] = 200\n",
    "\n",
    "# Instantiate the mock data objects\n",
    "ideal_data = mock.MockData(config=config)\n",
    "noisy_data = mock.MockData(config=config)\n",
    "noisy_data_z = mock.MockData(config=config)"
   ]
  },
  {
   "cell_type": "markdown",
   "metadata": {},
   "source": [
    "### Generate the mock catalog from the configuration. Consider 3 examples of increasing complexity:\n",
    "* Ideal data, no noise, all galaxies at the same redshift\n",
    "* Noisy data, including shape noise and redshift error, all galaxies at the same redshift\n",
    "* Noisy data, galaxies following redshift distribution, redshift error, shape noise"
   ]
  },
  {
   "cell_type": "code",
   "execution_count": 4,
   "metadata": {},
   "outputs": [],
   "source": [
    "ideal_data.generate()\n",
    "noisy_data.generate(is_shapenoise=True, shapenoise=0.005, is_zerr=True)\n",
    "noisy_data_z.generate(is_shapenoise=True, is_zdistribution=True, is_zerr=True)"
   ]
  },
  {
   "cell_type": "markdown",
   "metadata": {},
   "source": [
    "#### Ideal catalog first entries: no noise on the shape measurement, all galaxies at z=0.3"
   ]
  },
  {
   "cell_type": "code",
   "execution_count": 5,
   "metadata": {},
   "outputs": [
    {
     "data": {
      "text/html": [
       "<i>Table length=3</i>\n",
       "<table id=\"table4674420352\" class=\"table-striped table-bordered table-condensed\">\n",
       "<thead><tr><th>id</th><th>ra</th><th>dec</th><th>e1</th><th>e2</th><th>z</th></tr></thead>\n",
       "<thead><tr><th>int64</th><th>float64</th><th>float64</th><th>float64</th><th>float64</th><th>float64</th></tr></thead>\n",
       "<tr><td>0</td><td>0.04891539840784862</td><td>-0.12838714512648997</td><td>0.011734726613294905</td><td>-0.010460257708536314</td><td>0.8</td></tr>\n",
       "<tr><td>1</td><td>-0.02915469189917481</td><td>0.18906544224619926</td><td>0.010226648272935901</td><td>-0.003230810210346024</td><td>0.8</td></tr>\n",
       "<tr><td>2</td><td>0.058969582625348724</td><td>0.13773656602341494</td><td>0.009850534312205594</td><td>0.010327731539882286</td><td>0.8</td></tr>\n",
       "</table>"
      ],
      "text/plain": [
       "<Table length=3>\n",
       "  id           ra          ...           e2             z   \n",
       "int64       float64        ...        float64        float64\n",
       "----- -------------------- ... --------------------- -------\n",
       "    0  0.04891539840784862 ... -0.010460257708536314     0.8\n",
       "    1 -0.02915469189917481 ... -0.003230810210346024     0.8\n",
       "    2 0.058969582625348724 ...  0.010327731539882286     0.8"
      ]
     },
     "execution_count": 5,
     "metadata": {},
     "output_type": "execute_result"
    }
   ],
   "source": [
    "ideal_data.catalog[0:3]"
   ]
  },
  {
   "cell_type": "markdown",
   "metadata": {},
   "source": [
    "#### More realistic catalog: noise has been added on the shape measurement, galaxies follow some photoz distribution, gaussian pdf for each photoz is also provided (along with corresponding bins)"
   ]
  },
  {
   "cell_type": "code",
   "execution_count": 6,
   "metadata": {},
   "outputs": [
    {
     "data": {
      "text/html": [
       "<i>Table length=3</i>\n",
       "<table id=\"table4661614184\" class=\"table-striped table-bordered table-condensed\">\n",
       "<thead><tr><th>id</th><th>ra</th><th>dec</th><th>e1</th><th>e2</th><th>z</th><th>z_pdf [34]</th><th>z_bins [34]</th></tr></thead>\n",
       "<thead><tr><th>int64</th><th>float64</th><th>float64</th><th>float64</th><th>float64</th><th>float64</th><th>float64</th><th>float64</th></tr></thead>\n",
       "<tr><td>0</td><td>-0.2106366954390113</td><td>-0.13417828021432837</td><td>-0.004721598235382816</td><td>0.010123341043769059</td><td>0.8</td><td>8.80221998747802e-07 .. 1.6217891916506561e-06</td><td>0.30000000000000004 .. 1.290000000000001</td></tr>\n",
       "<tr><td>1</td><td>0.17207921870292125</td><td>-0.2143130128118167</td><td>0.0004257097571390653</td><td>-0.0019241196834748832</td><td>0.8</td><td>8.80221998747802e-07 .. 1.6217891916506561e-06</td><td>0.30000000000000004 .. 1.290000000000001</td></tr>\n",
       "<tr><td>2</td><td>0.13448069709544125</td><td>0.06118801525325859</td><td>-0.011834257621229714</td><td>0.013580486639775935</td><td>0.8</td><td>8.80221998747802e-07 .. 1.6217891916506561e-06</td><td>0.30000000000000004 .. 1.290000000000001</td></tr>\n",
       "</table>"
      ],
      "text/plain": [
       "<Table length=3>\n",
       "  id           ra         ...               z_bins [34]               \n",
       "int64       float64       ...                 float64                 \n",
       "----- ------------------- ... ----------------------------------------\n",
       "    0 -0.2106366954390113 ... 0.30000000000000004 .. 1.290000000000001\n",
       "    1 0.17207921870292125 ... 0.30000000000000004 .. 1.290000000000001\n",
       "    2 0.13448069709544125 ... 0.30000000000000004 .. 1.290000000000001"
      ]
     },
     "execution_count": 6,
     "metadata": {},
     "output_type": "execute_result"
    }
   ],
   "source": [
    "noisy_data.catalog[0:3]"
   ]
  },
  {
   "cell_type": "code",
   "execution_count": null,
   "metadata": {
    "collapsed": true
   },
   "outputs": [],
   "source": [
    "noisy_data_z.catalog[0:3]"
   ]
  },
  {
   "cell_type": "code",
   "execution_count": null,
   "metadata": {
    "collapsed": true
   },
   "outputs": [],
   "source": [
    "# Histogram of the redshift distribution of bkg galaxies (starting at z_cluster + 0.1)\n",
    "hist = plt.hist(noisy_data_z.catalog['z'], bins=50)"
   ]
  },
  {
   "cell_type": "code",
   "execution_count": null,
   "metadata": {
    "collapsed": true
   },
   "outputs": [],
   "source": [
    "# pdz for the first galaxy in the catalog\n",
    "plt.plot(noisy_data_z.catalog['z_bins'][0],noisy_data_z.catalog['z_pdf'][0])"
   ]
  },
  {
   "cell_type": "markdown",
   "metadata": {},
   "source": [
    "### Compute and plot shear profile\n",
    "\n",
    "This needs to be adapted to the new data profile making module"
   ]
  },
  {
   "cell_type": "code",
   "execution_count": null,
   "metadata": {
    "collapsed": true
   },
   "outputs": [],
   "source": [
    "# from clmm import ShearAzimuthalAverager"
   ]
  },
  {
   "cell_type": "code",
   "execution_count": null,
   "metadata": {
    "collapsed": true
   },
   "outputs": [],
   "source": [
    "# cl_dict = {'z':config['cluster_z'], 'ra':0.0, 'dec': 0.0}\n",
    "\n",
    "# saa_ideal = ShearAzimuthalAverager(cl_dict,ideal_data.catalog)\n",
    "# saa_noisy = ShearAzimuthalAverager(cl_dict,noisy_data.catalog)\n",
    "# saa_noisy_z = ShearAzimuthalAverager(cl_dict,noisy_data_z.catalog)\n",
    "\n",
    "\n",
    "# saa_ideal.compute_shear()\n",
    "# saa_noisy.compute_shear()\n",
    "# saa_noisy_z.compute_shear()\n",
    "\n",
    "# saa_ideal.make_shear_profile()\n",
    "# saa_noisy.make_shear_profile()\n",
    "# saa_noisy_z.make_shear_profile()"
   ]
  },
  {
   "cell_type": "code",
   "execution_count": null,
   "metadata": {
    "collapsed": true
   },
   "outputs": [],
   "source": [
    "# Ideal data\n",
    "# saa_ideal.plot_profile()"
   ]
  },
  {
   "cell_type": "code",
   "execution_count": null,
   "metadata": {
    "collapsed": true
   },
   "outputs": [],
   "source": [
    "# Noisy data, all galaxies at the same redshift\n",
    "# saa_noisy.plot_profile()"
   ]
  },
  {
   "cell_type": "code",
   "execution_count": null,
   "metadata": {
    "collapsed": true
   },
   "outputs": [],
   "source": [
    "# Noisy data, galaxies following redshift distribution\n",
    "# saa_noisy_z.plot_profile()"
   ]
  }
 ],
 "metadata": {
  "anaconda-cloud": {},
  "kernelspec": {
   "display_name": "Python 3",
   "language": "python",
   "name": "python3"
  },
  "language_info": {
   "codemirror_mode": {
    "name": "ipython",
    "version": 3
   },
   "file_extension": ".py",
   "mimetype": "text/x-python",
   "name": "python",
   "nbconvert_exporter": "python",
   "pygments_lexer": "ipython3",
   "version": "3.6.3"
  }
 },
 "nbformat": 4,
 "nbformat_minor": 2
}
